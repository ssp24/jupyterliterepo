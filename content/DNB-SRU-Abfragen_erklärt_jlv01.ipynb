{
  "metadata": {
    "language_info": {
      "codemirror_mode": {
        "name": "python",
        "version": 3
      },
      "file_extension": ".py",
      "mimetype": "text/x-python",
      "name": "python",
      "nbconvert_exporter": "python",
      "pygments_lexer": "ipython3",
      "version": "3.8"
    },
    "kernelspec": {
      "name": "python",
      "display_name": "Python (Pyodide)",
      "language": "python"
    }
  },
  "nbformat_minor": 4,
  "nbformat": 4,
  "cells": [
    {
      "cell_type": "markdown",
      "source": "# DNBLab Jupyter Notebook Tutorial\n\n## SRU-Abfragen erklärt - Tutorial für Einsteiger\\*innen (JupyterLite-Edition) ",
      "metadata": {}
    },
    {
      "cell_type": "markdown",
      "source": "Dieses Tutorial beschreibt, wie Sie mit Hilfe von JupyterLite und der Programmiersprache Python die SRU-Schnittstelle der DNB abfragen und mit den erhaltenen Antworten arbeiten können. Der Aufbau der Abfragen wird anhand von Beispielen erklärt und stützt sich auf die Dokumentation der SRU-Schnittstelle unter https://www.dnb.de/sru.\n\nDas Tutorial ist wie folgt aufgebaut: \n\n* [1. Einrichten der Arbeitsumgebung](#Teil1) \n* [2. Abfragen verschiedener Datensätze der DNB](#Teil2)  \n* [3. Aufbau einer gezielten Suche](#Teil3) ",
      "metadata": {}
    },
    {
      "cell_type": "markdown",
      "source": "<font color=\"red\"><strong>Hinweis:</strong></font> JupyterLite ist eine schnelle, \"leichtgewichtige\" und sehr ressourcenschonende Coding-Umgebung. Dadurch stehen in JupyterLite nicht alle Funktionalitäten zur Verfügung und der Code des Tutorials wurde im Vegleich zur Jupyter Notebook-Version entsprechend angepasst. ",
      "metadata": {}
    },
    {
      "cell_type": "markdown",
      "source": "## 1. Einrichten der Arbeitsumgebung",
      "metadata": {}
    },
    {
      "cell_type": "markdown",
      "source": "Um die Arbeitsumgebung für die folgenden Schritte passend einzurichten, werden zunächst die benötigten Python-Biblitoheken importiert: \"urllib\", \"pyodide\" und \"js\" für die Abfragen an die SRU-Schnittstelle in einer JupyterLite-Umgebung, \"ElementTree\" über \"lxml\" (als ET) und \"BeautifulSoup\", um die XML-Antworten der Schnittstelle besser verarbeiten zu können sowie \"unicodedata\" zur Verarbeitung der Zeichencodierung:",
      "metadata": {}
    },
    {
      "cell_type": "code",
      "source": "import urllib.parse\nfrom pyodide.http import open_url, pyfetch\nfrom js import fetch\nfrom bs4 import BeautifulSoup as soup\nimport unicodedata\nfrom lxml import etree as ET",
      "metadata": {
        "trusted": true
      },
      "execution_count": 2,
      "outputs": []
    },
    {
      "cell_type": "markdown",
      "source": "Die SRU-Schnittstelle der DNB ist unter der URL \"https://services.dnb.de/sru\" erreichbar. Ein Aufruf dieser Adresse im Browser zeigt den aktuellen Status sowie die Version der Schnittstelle an. ",
      "metadata": {}
    },
    {
      "cell_type": "markdown",
      "source": "## 2. Abfrage verschiedener Datensätze der DNB ",
      "metadata": {}
    },
    {
      "cell_type": "markdown",
      "source": "Die DNB bietet Ihre Daten auf drei verschiedene \"Kataloge\" gesplittet an, von denen immer einer für eine Abfrage ausgewählt werden muss. Dies geschieht über eine Erweiterung der o.g. Base-URL. Zur Verfügung stehen folgende Kataloge: \n\n* Katalog der Deutschen Nationalbibliothek (DNB) - hierin befinden sich die Titeldaten\n* Katalog des Deutschen Musikarchivs (DMA) - Datensätze des Deutschen Musikarchivs\n* Katalog der Gemeinsamen Normdatei (GND) - hierin befinden sich die Normdaten\n\nDie Erweiterungen für die URL sind folgende: \n\n* DNB: https://services.dnb.de/sru/dnb\n* DMA: https://services.dnb.de/sru/dnb.dma\n* GND: https://services.dnb.de/sru/authorities\n\nWerden die jeweiligen Bereiche ohne weitere Spezifikationen abgefragt, senden sie eine Selbstbeschreibung im XML-Standardformat (https://services.dnb.de/sru/dnb?operation=explain&version=1.1) zurück. \n\nMit Hilfe der Bibliothek \"BeautifulSoup\" kann die Antwort direkt in XML umgewandelt werden. \n\n<font color=\"red\"><strong>Hinweis:</strong></font>  Um das Tutorial übersichtlich zu halten, wird die Ausgabe der Antwort im folgenden auf ersten 500 Zeichen gekürzt - die eigentliche Antwort ist länger und kann durch einfaches Löschen der Einschränkung \"[0:500]\" in der \"print\"-Zeile komplett angezeigt werden. Natürlich können auch andere Bereiche zur Anzeige gewählt werden. ",
      "metadata": {}
    },
    {
      "cell_type": "code",
      "source": "#URL der SRU-Schnittstelle der DNB: \nbase_url = \"https://services.dnb.de/sru/dnb\"\n\n#Anfrage - speichern der Antwort in die Variable \"basic_request\" und Überführung des Inhalts in die Variable \"response\":\nbasic_request =  await fetch(base_url)\ncontent = await basic_request.text()",
      "metadata": {
        "trusted": true
      },
      "execution_count": 3,
      "outputs": []
    },
    {
      "cell_type": "code",
      "source": "#Umwandeln in XML und Ausgabe der ersten 500 Zeichen: \nresponse = soup(content, features=\"xml\")\nprint(response.prettify()[0:500])",
      "metadata": {
        "trusted": true
      },
      "execution_count": 4,
      "outputs": [
        {
          "name": "stdout",
          "text": "<?xml version=\"1.0\" encoding=\"utf-8\"?>\n<explainResponse xmlns=\"http://www.loc.gov/zing/srw/\">\n <version>\n  1.1\n </version>\n <record>\n  <recordSchema>\n   http://explain.z3950.org/dtd/2.0/\n  </recordSchema>\n  <recordPacking>\n   xml\n  </recordPacking>\n  <recordData>\n   <ns:explain id=\"Deutsche Nationalbibliothek\" xmlns:ns=\"http://explain.z3950.org/dtd/2.0/\">\n    <ns:serverInfo protocol=\"sru\" version=\"1.1\">\n     <ns:host>\n      services.dnb.de\n     </ns:host>\n     <ns:port>\n      443\n     </ns:port>\n",
          "output_type": "stream"
        }
      ]
    },
    {
      "cell_type": "markdown",
      "source": "Für eine Suchanfrage an die Daten der DNB wird nun über die Wahl der URL der Katalog definiert. Mit Hilfe der Variable *parameter* werden dann alle weiteren benötigten Parameter übergeben. \n\nBesonders relevant sind dabei die beiden Parameter 'query' : 'Klimawandel', sowie 'recordSchema' : 'MARC21-xml'. Statt \"Klimawandel\" kann hier jeder beliebige Suchbegriff eingetragen werden - auch Suchanfragen, die aus mehreren Wörtern bestehen, können hier mittels boolscher Operatoren übergeben werden. Die genaue Formulierung solcher kann unter https://www.dnb.de/sru nachgelesen werden. Statt \"MARC21-xml\" stehen außerdem noch \"oai_dc\" oder \"RDFxml\" als Ausgabeformate zur Verfügung (siehe weiter unten).   \n",
      "metadata": {}
    },
    {
      "cell_type": "code",
      "source": "base_url = \"https://services.dnb.de/sru/dnb\"\nparams = {'recordSchema' : 'MARC21-xml',\n          'operation': 'searchRetrieve',\n          'version': '1.1',\n          'query': \"Klimawandel\"\n         }\n    \nr = await fetch(base_url + \"?\" + urllib.parse.urlencode(params))  \nr_text = await r.text()\n\nresponse = soup(r_text, features=\"xml\")\nprint(response.prettify()[0:1000])",
      "metadata": {
        "trusted": true
      },
      "execution_count": 5,
      "outputs": [
        {
          "name": "stdout",
          "text": "<?xml version=\"1.0\" encoding=\"utf-8\"?>\n<searchRetrieveResponse xmlns=\"http://www.loc.gov/zing/srw/\">\n <version>\n  1.1\n </version>\n <numberOfRecords>\n  9959\n </numberOfRecords>\n <records>\n  <record>\n   <recordSchema>\n    MARC21-xml\n   </recordSchema>\n   <recordPacking>\n    xml\n   </recordPacking>\n   <recordData>\n    <record type=\"Bibliographic\" xmlns=\"http://www.loc.gov/MARC21/slim\">\n     <leader>\n      00000nam a22000008c 4500\n     </leader>\n     <controlfield tag=\"001\">\n      1147699615\n     </controlfield>\n     <controlfield tag=\"003\">\n      DE-101\n     </controlfield>\n     <controlfield tag=\"005\">\n      20221206110102.0\n     </controlfield>\n     <controlfield tag=\"007\">\n      tu\n     </controlfield>\n     <controlfield tag=\"008\">\n      171204s2027    gw ||||| |||| 00||||ger\n     </controlfield>\n     <datafield ind1=\" \" ind2=\" \" tag=\"015\">\n      <subfield code=\"a\">\n       17,N50\n      </subfield>\n      <subfield code=\"2\">\n       dnb\n      </subfield>\n     </datafield>\n     <datafield \n",
          "output_type": "stream"
        }
      ]
    },
    {
      "cell_type": "markdown",
      "source": "Zu beachten ist, dass die Suche nach einem Stichwort über den 'query'-Befehl eine allgemeine Suche über alle Titeldaten darstellt. Die Suche ist allerdings nicht auf Titel oder ähnliches beschränkt, sondern durchsucht die Datensätze im Gesamtindex der Katalogdaten. Auch nach beispielsweise Autor*innennamen kann auf diese Art gesucht werden, jedoch muss bedacht werden, dass auch Titel, die den gesuchten Namen enthalten, in diesem Fall als Treffer ausgegeben werden.",
      "metadata": {}
    },
    {
      "cell_type": "markdown",
      "source": "## 3. Aufbau einer gezielten Suche ",
      "metadata": {}
    },
    {
      "cell_type": "markdown",
      "source": "Zur Eingrenzung der Suche auf bestimmte Angaben wie bspw. Titel oder Autor*in können unter anderem folgende Befehle genutzt werden:\n\ntit= Suche im Titeleintrag\natr= Suche nach Verfasser*in (Person oder Organisation)\nper= Suche nach Personen (in allen relevanten Feldern)\nsw = Suche nach Schlagworten\njhr = Suche nach Erscheinungszeitraum\n...\nEine detaillierte Übersicht über die verschiedenen Abfragemöglichkeiten gibt es unter https://www.dnb.de/expertensuche. Dabei können die unterschiedlichen Parameter auch beliebig in der Suchanfrage kombiniert werden - zu beachten ist hier lediglich, dass diese immer Teil der \"query\" sind.\n\nFür die Ausgabe der Ergebnisse kann außerdem zwischen drei Formaten gewählt werden, indem der entsprechende Code hinter 'recordSchema' geändert wird:\n\nMARC21-xml (XML-Variante von MARC 21)\noai_dc (DNB Casual - Auswahl von Dublin-Core-Elementen - nur für Titeldaten!)\nRDFxml (RDF - Linked Data Service)\nEine Suchanfrage nach Titeln, die das Suchwort \"Klimawandel\" enthalten, im Jahr 2005 erschienen sind und im Format DNB Casual \"oai_dc\" angefragt wird, sieht wie folgt aus:",
      "metadata": {}
    },
    {
      "cell_type": "code",
      "source": "#Parameter, die der Anfrage übergeben werden: \nparameter = {'version' : '1.1' , 'operation' : 'searchRetrieve' , 'query' : 'tit=Klimawandel and jhr=2005',\n             'recordSchema' : 'oai_dc', 'maximumRecords': '100'} \n\nr = await fetch(base_url + \"?\" + urllib.parse.urlencode(parameter))  \nr_text = await r.text()\n\n#Parsen der Antwort \"r\" als XML in die neue Variable \"response\":\nresponse = soup(r_text, features=\"xml\")\n\n#Schöne Ausgabe der ersten 1000 Zeichen: \nprint(response.prettify()[0:1000])",
      "metadata": {
        "trusted": true
      },
      "execution_count": 6,
      "outputs": [
        {
          "name": "stdout",
          "text": "<?xml version=\"1.0\" encoding=\"utf-8\"?>\n<searchRetrieveResponse xmlns=\"http://www.loc.gov/zing/srw/\">\n <version>\n  1.1\n </version>\n <numberOfRecords>\n  29\n </numberOfRecords>\n <records>\n  <record>\n   <recordSchema>\n    oai_dc\n   </recordSchema>\n   <recordPacking>\n    xml\n   </recordPacking>\n   <recordData>\n    <dc xmlns=\"http://www.openarchives.org/OAI/2.0/oai_dc/\" xmlns:dc=\"http://purl.org/dc/elements/1.1/\" xmlns:dnb=\"http://d-nb.de/standards/dnbterms\" xmlns:xsi=\"http://www.w3.org/2001/XMLSchema-instance\">\n     <dc:title>\n      Anpassung an den Klimawandel : Gründe, Folgen, Handlungsoptionen / Bundesministerium für Wirtschaftliche Zusammenarbeit und Entwicklung ; Gtz, Deutsche Gesellschaft für Technische Zusammenarbeit (GTZ) GmbH\n     </dc:title>\n     <dc:creator>\n      Deutschland / Bundesministerium für Wirtschaftliche Zusammenarbeit und Entwicklung\n     </dc:creator>\n     <dc:publisher>\n      Eschborn : GTZ\n     </dc:publisher>\n     <dc:date>\n      2005\n     </dc:date>\n     <dc:iden\n",
          "output_type": "stream"
        }
      ]
    },
    {
      "cell_type": "markdown",
      "source": "In Zeile 8 der Antwort befindet sich folgender XML-Block, der im Text zwischen den XML-Tags die Gesamtzahl der gefundenen Ergebnisse enthält:  \n```\n<numberOfRecords>\n   ZAHL\n</numberOfRecords>\n```\n\nWenn man diese Information nicht im XML suchen möchte, kann auch der Code so angepasst werden, dass der entsprechende Abschnitt mithilfe des Zusatzes \".find('numberOfRecords')\" gesucht wird. Der Zusatz \".find('suchtext')\" sucht dabei nach dem ersten Element, welches den Suchtext in Klammern enthält. Für diesen Fall ist das ausreichend, da die Information nur einmal pro Anfrage von der SRU-Schnittstelle zurückgegeben wird. Wenn dagegen mehrere XML-Tags mit demselben Namen gesucht und ausgegeben werden sollen, muss \".find_all('suchtext')\" genutzt werden. \n\nIm Anschluss kann der Inhalt zwischen den beiden \"numberOfRecords\"-Tags ausgegeben werdem, indem das Attribut \".text\" an die Variable *number* angehängt wird. Zum Vergleich kann die gesamte Variable \"number\" (unten auskommentiert) ausgegeben werden:",
      "metadata": {}
    },
    {
      "cell_type": "code",
      "source": "number = response.find('numberOfRecords')\nprint(number.text, 'Ergebnisse')\n#print(number)",
      "metadata": {
        "trusted": true
      },
      "execution_count": 7,
      "outputs": [
        {
          "name": "stdout",
          "text": "29 Ergebnisse\n",
          "output_type": "stream"
        }
      ]
    },
    {
      "cell_type": "markdown",
      "source": "Da die einzelzen Treffer bzw. Datensätze jeweils durch \"record\"-Tags gekennzeichnet sind, werden diese nun gesucht und in der Variable records zwischengespeichert. Zum Vergleich wird im Anschluss noch die Länge der Variable ausgeben, um überprüfen zu können, ob diese mit der Angabe unter \"numberOfRecords\" übereinstimmt.\n\n<font color=\"orange\"><strong>Wichtig!</strong></font>  Dies funkioniert zunächst nur bis zu einer Treffermenge von insgesamt 100! Auch bei größeren Treffermengen wird im folgenden maximal die Länge 100 angezeigt - wie man trotzdem größere Treffermengen sammeln kann, folgt etwas weiter unten in diesem Tutorial.",
      "metadata": {}
    },
    {
      "cell_type": "code",
      "source": "records = response.find_all('record')\nprint(len(records), 'Ergebnisse')",
      "metadata": {
        "trusted": true
      },
      "execution_count": 8,
      "outputs": [
        {
          "name": "stdout",
          "text": "29 Ergebnisse\n",
          "output_type": "stream"
        }
      ]
    },
    {
      "cell_type": "markdown",
      "source": "<font color=\"red\"><strong>Hinweis:</strong></font> Wird statt DNB Casual (oai_dc) das Metadatenformat 'MARC21-xml' für die Ausgabe der Schnittstelle verwendet, sind die Datensätze im XML anders verschachtelt. In diesem Fall muss auch der Typ des Datensatzes bei jeder Suche nach 'record' um diese Angabe erweitert werden!\nBei einer Abfrage der Titeldaten über den Katalog /dnb muss ergänzt werden, dass es sich um bibliographische Datensätze handelt, bei einer Abfrage der GND enstprechend, dass es sich um Datensätze des Typs 'authority' handelt. Die Abfagen hierfür sehen wie folgt aus: \n\nMAR21-xml Titeldaten: <bold> `records = response.find_all('record', {'type':'Bibliographic'})` </bold> <br>\nMAR21-xml Normdaten: <bold> `records = response.find_all('record', {'type':'Authority'})` </bold>\n",
      "metadata": {}
    },
    {
      "cell_type": "markdown",
      "source": "Die Ergebnisse werden als Liste gespeichert, d.h. die Variable records ist entsprechend eine Listenvariable. Die Ergebnisse stehen dabei jeweils an einem Listenplatz - bei 9 Ergebnissen gibt es in der Liste also 9 Einträge. Da der erste Eintrag allerdings an Listenplatz 0 steht, sind die Plätze von 0-8 mit den 9 Einträgen belegt. Dies ist wichtig, wenn einzelene Listenplätze adressiert werden sollen.\n\nDer 3. Eintrag kann daher bspw. angezeigt werden, indem Listenplatz Nummer 2 aufgerufen wird:",
      "metadata": {}
    },
    {
      "cell_type": "code",
      "source": "print(records[2])",
      "metadata": {
        "trusted": true
      },
      "execution_count": 9,
      "outputs": [
        {
          "name": "stdout",
          "text": "<record><recordSchema>oai_dc</recordSchema><recordPacking>xml</recordPacking><recordData><dc xmlns=\"http://www.openarchives.org/OAI/2.0/oai_dc/\" xmlns:dc=\"http://purl.org/dc/elements/1.1/\" xmlns:dnb=\"http://d-nb.de/standards/dnbterms\" xmlns:xsi=\"http://www.w3.org/2001/XMLSchema-instance\">\n<dc:title>Die EU im Einsatz gegen den Klimawandel : der EU-Emissionshandel - ein offenes System, das weltweit Innovationen fördert / [Europäische Kommission]</dc:title>\n<dc:creator>Europäische Kommission</dc:creator>\n<dc:publisher>[Luxemburg] : [Amt für Amtliche Veröff. der Europ. Gemeinschaften]</dc:publisher>\n<dc:date>2005</dc:date>\n<dc:language>ger</dc:language>\n<dc:identifier xmlns:tel=\"http://krait.kb.nl/coop/tel/handbook/telterms.html\" xsi:type=\"tel:ISBN\">92-894-9187-6 geh.</dc:identifier>\n<dc:identifier xsi:type=\"dnb:IDN\">992017882</dc:identifier>\n<dc:subject>360 Soziale Probleme, Sozialdienste, Versicherungen</dc:subject>\n<dc:subject>330 Wirtschaft</dc:subject>\n<dc:format>20 S.</dc:format>\n</dc></recordData><recordPosition>3</recordPosition></record>\n",
          "output_type": "stream"
        }
      ]
    },
    {
      "cell_type": "markdown",
      "source": "Um das Ganze einfacher zu nutzen, können alle Schritte in einer Funktion zusammengeführt werden, die dann nur noch die jeweilige Abfrage erhalten muss:",
      "metadata": {}
    },
    {
      "cell_type": "code",
      "source": "#Funktion\nasync def dnb_sru_short(query):\n    \n    base_url = \"https://services.dnb.de/sru/dnb\"\n    parameter = {'recordSchema' : 'oai_dc',\n          'operation': 'searchRetrieve',\n          'version': '1.1',\n          'maximumRecords': '100',\n          'query': query\n         }\n    \n    r = await fetch(base_url + \"?\" + urllib.parse.urlencode(parameter))  \n    content = await r.text()\n    xml = soup(content, features=\"xml\")\n    records = xml.find_all('record')\n    \n    return records\n    \n",
      "metadata": {
        "trusted": true
      },
      "execution_count": 39,
      "outputs": []
    },
    {
      "cell_type": "code",
      "source": "#Formulierung der Abfrage: \nmyquery = await dnb_sru_short('tit=Klimawandel and jhr=2005') #Aufruf der Funktion 'sru-dnb' mit der Abfrage 'tit=Klimawandel...'\nprint(len(myquery), \"Ergebnisse\")",
      "metadata": {
        "trusted": true
      },
      "execution_count": 41,
      "outputs": [
        {
          "name": "stdout",
          "text": "29 Ergebnisse\n",
          "output_type": "stream"
        }
      ]
    },
    {
      "cell_type": "markdown",
      "source": "Da im Vorfeld die Menge der Ergebnisse nicht bekannt ist, aber häufig Ergebnismengen von über 100 Treffern vorkommen, kann die Funktion noch etwas angepasst werden. Dazu wird mit Hilfe der Information im Tag \"numberOfRecords\" zunächst abgefragt, wie viele Treffer insgesamt gefunden wurden. Werden bis zu 100 Treffer gemeldet, gibt es keinen Änderungsbedarf und die Funktion kann durchlaufen und die gefundenen Treffer zurückgeben. Werden jedoch mehr als 100 Treffer gefunden, wird die Anfrage in 100er Schritte aufgeteilt und die Ergebnisse jeweils zwischengespeichert. Dies geschieht mithilfe einer Schleife, die nach jeder neuen Abfrage überprüft, ob noch weitere Treffer \"geholt\" werden müssen und diese in 100er Schritten \"einsammelt\". Sobald alle Teile der Anfrage verarbeitet wurden, wird das gesammelte Ergebnis übergeben. Die Funktion sieht dann folgendermaßen aus:",
      "metadata": {}
    },
    {
      "cell_type": "code",
      "source": "#Funktion\nasync def dnb_sru(query):\n    \n    base_url = \"https://services.dnb.de/sru/dnb\"\n    parameter = {'recordSchema' : 'oai_dc',\n          'operation': 'searchRetrieve',\n          'version': '1.1',\n          'maximumRecords': '100',\n          'query': query\n         }\n    \n    r = await fetch(base_url + \"?\" + urllib.parse.urlencode(parameter))  \n    content = await r.text()\n    xml = soup(content, features=\"xml\")\n    number = int(xml.find('numberOfRecords').text)\n    records = xml.find_all('record')\n    \n    if number <= 101:       # wurden maximal 100 Treffer gefunden? Wenn ja, erfolgt direkt die Rückgabe.\n        return records\n    \n    else:                   # wurden mehr als 100 Treffer gefunden, wird hier die Schleife gestartet.\n        num_results = 100\n        i = 101\n        \n        while num_results == 100:\n            \n            parameter.update({'startRecord': i}) \n            r = await fetch(base_url + \"?\" + urllib.parse.urlencode(parameter))  \n            content = await r.text()\n            xml = soup(content, features=\"xml\")\n            new_records = xml.find_all('record')\n            records+=new_records\n            i+=100\n            num_results = len(new_records)\n            \n        return records\n    ",
      "metadata": {
        "trusted": true
      },
      "execution_count": 44,
      "outputs": []
    },
    {
      "cell_type": "markdown",
      "source": "Diese Funktion wird auch bereits im Tutorial \"Wie können Daten mittels der SRU-Schnittstelle abgerufen werden?\" verwendet.\n\nEine Abfrage für das Titelstichwort \"Klimawandel\" kombiniert mit dem Jahr 2019 ergibt folgende Treffermenge:",
      "metadata": {}
    },
    {
      "cell_type": "code",
      "source": "myquery = await dnb_sru('tit=Klimawandel and jhr=2019')\nprint(len(myquery), \"Ergebnisse\")",
      "metadata": {
        "trusted": true
      },
      "execution_count": 45,
      "outputs": [
        {
          "name": "stdout",
          "text": "305 Ergebnisse\n",
          "output_type": "stream"
        }
      ]
    },
    {
      "cell_type": "markdown",
      "source": "Die so abgerufenen Treffer können entweder direkt weiterverarbeitet oder lokal zwischengespeichert werden. Der folgende Codeblock erstellt eine entsprechende Datei und legt den Inhalt der Abfrage dort als XML ab: ",
      "metadata": {}
    },
    {
      "cell_type": "code",
      "source": "with open('sru_abfrage_klimawandel.xml', 'w', encoding=\"utf-8\") as f:\n    f.write(str(myquery))",
      "metadata": {
        "trusted": true
      },
      "execution_count": 46,
      "outputs": []
    },
    {
      "cell_type": "markdown",
      "source": "<font color=\"red\"><strong>Hinweis:</strong></font> Wie oben bereits erwähnt, entnimmt die Schleife jeweils die bibliografischen Datensätze aus den XML-Antworten der Schnittstelle und legt diese in eine Liste ab. Es handelt sich daher bei der Variable myquery nicht um valides XML (das alle Formatregeln berücksichtigt), da ein Root-Element fehlt. Für die weitere Verarbeitung der abgerufenen Datensätze zu Analysezwecken ist dies jedoch unerheblich.",
      "metadata": {}
    },
    {
      "cell_type": "code",
      "source": "",
      "metadata": {},
      "execution_count": null,
      "outputs": []
    }
  ]
}