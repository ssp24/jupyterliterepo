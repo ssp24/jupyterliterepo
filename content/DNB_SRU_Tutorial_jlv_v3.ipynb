{
  "metadata": {
    "anaconda-cloud": {},
    "kernelspec": {
      "name": "python",
      "display_name": "Python (Pyodide)",
      "language": "python"
    },
    "language_info": {
      "codemirror_mode": {
        "name": "python",
        "version": 3
      },
      "file_extension": ".py",
      "mimetype": "text/x-python",
      "name": "python",
      "nbconvert_exporter": "python",
      "pygments_lexer": "ipython3",
      "version": "3.8"
    }
  },
  "nbformat_minor": 4,
  "nbformat": 4,
  "cells": [
    {
      "cell_type": "markdown",
      "source": "# DNBLab Jupyter Notebook zur SRU Abfrage",
      "metadata": {
        "nbpresent": {
          "id": "d0d72cd5-034d-4b94-a4e2-54f7753cb9f0"
        }
      }
    },
    {
      "cell_type": "markdown",
      "source": "## SRU - Schnittstellenabfrage, Datenauslieferung und Ergebnisanzeige",
      "metadata": {
        "nbpresent": {
          "id": "558898c3-e162-4e46-92d5-b4c914325790"
        }
      }
    },
    {
      "cell_type": "markdown",
      "source": "Lassen Sie uns gemeinsamen folgenden Markdown *hier* einfügen:",
      "metadata": {}
    },
    {
      "cell_type": "markdown",
      "source": "Dieses DNBLab-Tutorial beschreibt eine Beispielabfrage über die SRU-Schnittstelle mit Python. In der Jupyter Notebook Umgebung kann der dokumentierte Code direkt ausgeführt und angepasst werden. Das Tutorial umfasst die exemplarische Anfrage und Ausgabe der Daten in MARC21-xml zur weiteren Verarbeitung. ",
      "metadata": {
        "nbpresent": {
          "id": "ee78241c-36e7-45e6-b015-0ef46f1e777d"
        }
      }
    },
    {
      "cell_type": "markdown",
      "source": "## Ganz wichtig, Zwischenspeichern nicht vergessen!",
      "metadata": {}
    },
    {
      "cell_type": "markdown",
      "source": "## Lassen Sie uns die Arbeitsumgebung einrichten! <a class=\"anchor\" id=\"Teil1\"></a>",
      "metadata": {
        "nbpresent": {
          "id": "3c6f6024-cb7c-4b65-8646-a753069cb5a4"
        },
        "tags": []
      }
    },
    {
      "cell_type": "code",
      "source": "import urllib.parse\nfrom pyodide.http import open_url, pyfetch\nfrom js import fetch\nfrom bs4 import BeautifulSoup as soup\nimport unicodedata\nfrom lxml import etree\nimport pandas as pd",
      "metadata": {
        "trusted": true
      },
      "execution_count": 10,
      "outputs": []
    },
    {
      "cell_type": "markdown",
      "source": "## Lassen Sie uns die SRU-Abfrage starten ... <a class=\"anchor\" id=\"Teil2\"></a>",
      "metadata": {}
    },
    {
      "cell_type": "code",
      "source": "async def dnb_sru(query):\n    \n    base_url = \"https://services.dnb.de/sru/dnb\"\n    params = {'recordSchema' : 'MARC21-xml',\n          'operation': 'searchRetrieve',\n          'version': '1.1',\n          'maximumRecords': '100',\n          'query': query\n         }\n    \n    r = await fetch(base_url + \"?\" + urllib.parse.urlencode(params))  \n    r_text = await r.text()\n    xml = soup(r_text, features=\"xml\")\n    records = xml.find_all('record', {'type':'Bibliographic'})\n    \n    \n    if len(records) < 100:\n        \n        return records\n    \n    else:\n        \n        num_results = 100\n        i = 101\n        while num_results == 100:\n            \n            params.update({'startRecord': i})\n            r = await fetch(base_url + \"?\" + urllib.parse.urlencode(params))  \n            r_text = await r.text()\n            xml = soup(r_text, features=\"xml\")\n            new_records = xml.find_all('record', {'type':'Bibliographic'})\n            records+=new_records\n            i+=100\n            num_results = len(new_records)\n            \n        return records",
      "metadata": {
        "trusted": true
      },
      "execution_count": 11,
      "outputs": []
    },
    {
      "cell_type": "markdown",
      "source": "## Lasses Sie uns ein MARC-Feld durchsuchen! <a class=\"anchor\" id=\"Teil3\"></a>",
      "metadata": {}
    },
    {
      "cell_type": "code",
      "source": "def parse_record(record):\n    \n    ns = {\"marc\":\"http://www.loc.gov/MARC21/slim\"}\n    xml = etree.fromstring(unicodedata.normalize(\"NFC\", str(record)))\n    \n    #idn\n    idn = xml.xpath(\"marc:controlfield[@tag = '001']\", namespaces=ns)\n    try:\n        idn = idn[0].text\n    except:\n        idn = 'fail'\n    \n    # titel\n    titel = xml.xpath(\"marc:datafield[@tag = '856']/marc:subfield[@code = 'u']\", namespaces=ns)\n    \n    try:\n        titel = titel[0].text\n        #titel = unicodedata.normalize(\"NFC\", titel)\n    except:\n        titel = \"unkown\"\n        \n    meta_dict = {\"idn\":idn,\n                 \"link\":link}\n    \n    return meta_dict",
      "metadata": {
        "trusted": true
      },
      "execution_count": 13,
      "outputs": []
    },
    {
      "cell_type": "markdown",
      "source": "# Lassen Sie uns gemeinsam alle Titel nach dem Suchwort 'Biene durchsuchen'!",
      "metadata": {}
    },
    {
      "cell_type": "code",
      "source": "records = await dnb_sru('tit=Hund')\nprint(len(records), 'Ergebnisse')",
      "metadata": {
        "trusted": true
      },
      "execution_count": 14,
      "outputs": [
        {
          "name": "stdout",
          "text": "2069 Ergebnisse\n",
          "output_type": "stream"
        }
      ]
    },
    {
      "cell_type": "markdown",
      "source": "## Lassen Sie uns das Ergebnis in einem Satz anzeigen...",
      "metadata": {}
    },
    {
      "cell_type": "code",
      "source": "print(len(records), 'Treffer wurden gefunden!')",
      "metadata": {
        "trusted": true
      },
      "execution_count": 8,
      "outputs": [
        {
          "name": "stdout",
          "text": "2069 Treffer wurden gefunden!\n",
          "output_type": "stream"
        }
      ]
    },
    {
      "cell_type": "markdown",
      "source": "## ... und nun die Treffer tabellisch darstellen.  <a class=\"anchor\" id=\"Teil4\"></a>",
      "metadata": {}
    },
    {
      "cell_type": "code",
      "source": "output = [parse_record(record) for record in records]\ndf = pd.DataFrame(output)\ndf",
      "metadata": {
        "trusted": true
      },
      "execution_count": 6,
      "outputs": [
        {
          "execution_count": 6,
          "output_type": "execute_result",
          "data": {
            "text/plain": "             idn                                              titel\n0     1307583822                               Das Lied der Biene\n1     1304403807                              Der Stich der Biene\n2     1311597247                Die Biene Maja und ihre Abenteuer\n3     1307587437                Die Biene Maja und ihre Abenteuer\n4     130090240X  Die Biene Maja: Die schönsten Minuten-Geschi...\n...          ...                                                ...\n2064  1232876879                                          Postkarte\n2065  1235784428                                         Briefkarte\n2066  1238096719  Konvolut von Zeitungsausschnitten u. Ä. mit Be...\n2067  1237361656  Konvolut von Programmen seines Theaterstücks B...\n2068  1237473616  Konvolut von Szenenfotografien des Theaterstüc...\n\n[2069 rows x 2 columns]",
            "text/html": "<div>\n<style scoped>\n    .dataframe tbody tr th:only-of-type {\n        vertical-align: middle;\n    }\n\n    .dataframe tbody tr th {\n        vertical-align: top;\n    }\n\n    .dataframe thead th {\n        text-align: right;\n    }\n</style>\n<table border=\"1\" class=\"dataframe\">\n  <thead>\n    <tr style=\"text-align: right;\">\n      <th></th>\n      <th>idn</th>\n      <th>titel</th>\n    </tr>\n  </thead>\n  <tbody>\n    <tr>\n      <th>0</th>\n      <td>1307583822</td>\n      <td>Das Lied der Biene</td>\n    </tr>\n    <tr>\n      <th>1</th>\n      <td>1304403807</td>\n      <td>Der Stich der Biene</td>\n    </tr>\n    <tr>\n      <th>2</th>\n      <td>1311597247</td>\n      <td>Die Biene Maja und ihre Abenteuer</td>\n    </tr>\n    <tr>\n      <th>3</th>\n      <td>1307587437</td>\n      <td>Die Biene Maja und ihre Abenteuer</td>\n    </tr>\n    <tr>\n      <th>4</th>\n      <td>130090240X</td>\n      <td>Die Biene Maja: Die schönsten Minuten-Geschi...</td>\n    </tr>\n    <tr>\n      <th>...</th>\n      <td>...</td>\n      <td>...</td>\n    </tr>\n    <tr>\n      <th>2064</th>\n      <td>1232876879</td>\n      <td>Postkarte</td>\n    </tr>\n    <tr>\n      <th>2065</th>\n      <td>1235784428</td>\n      <td>Briefkarte</td>\n    </tr>\n    <tr>\n      <th>2066</th>\n      <td>1238096719</td>\n      <td>Konvolut von Zeitungsausschnitten u. Ä. mit Be...</td>\n    </tr>\n    <tr>\n      <th>2067</th>\n      <td>1237361656</td>\n      <td>Konvolut von Programmen seines Theaterstücks B...</td>\n    </tr>\n    <tr>\n      <th>2068</th>\n      <td>1237473616</td>\n      <td>Konvolut von Szenenfotografien des Theaterstüc...</td>\n    </tr>\n  </tbody>\n</table>\n<p>2069 rows × 2 columns</p>\n</div>"
          },
          "metadata": {}
        }
      ]
    },
    {
      "cell_type": "markdown",
      "source": "# Wie kann man das Ergebnis speichern? ",
      "metadata": {}
    },
    {
      "cell_type": "markdown",
      "source": "Mit der folgenden Funktion df.to_csv() werden die Ergebnisse als SRU_Titel.csv in das Jupyter-Verzeichnins der Einstiegsseite abgelegt und können dort heruntergeladen werden. ",
      "metadata": {}
    },
    {
      "cell_type": "code",
      "source": "df.to_csv(\"SRU_Titel.csv\", index=False)",
      "metadata": {
        "trusted": true
      },
      "execution_count": 9,
      "outputs": []
    }
  ]
}